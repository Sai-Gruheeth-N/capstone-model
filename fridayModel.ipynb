{
 "cells": [
  {
   "cell_type": "code",
   "execution_count": 1,
   "metadata": {},
   "outputs": [],
   "source": [
    "import numpy as np\n",
    "import matplotlib.pyplot as plt\n",
    "import os\n",
    "import pathlib\n",
    "import PIL\n",
    "\n",
    "import tensorflow as tf\n",
    "from tensorflow import keras\n",
    "from tensorflow.keras import layers\n",
    "from tensorflow.keras.models import Sequential, Model\n",
    "from tensorflow.keras.layers import Conv2D,Activation,LeakyReLU,BatchNormalization,MaxPooling2D,Flatten,Dense,Dropout\n",
    "from keras.preprocessing import image"
   ]
  },
  {
   "cell_type": "code",
   "execution_count": 2,
   "metadata": {},
   "outputs": [],
   "source": [
    "dataset_url = \"C:/Users/gruhe/Desktop/Capstone/DataSet for Capstone\"\n",
    "train_dataset_url = \"C:/Users/gruhe/Desktop/Capstone/Model/Split Dataset/train\"\n",
    "val_dataset_url = \"C:/Users/gruhe/Desktop/Capstone/Model/Split Dataset/val\"\n",
    "test_dataset_url = \"C:/Users/gruhe/Desktop/Capstone/Model/Split Dataset/test\""
   ]
  },
  {
   "cell_type": "code",
   "execution_count": 3,
   "metadata": {},
   "outputs": [],
   "source": [
    "data_dir = pathlib.Path(dataset_url)\n",
    "train_data_dir = pathlib.Path(train_dataset_url)\n",
    "val_data_dir = pathlib.Path(val_dataset_url)\n",
    "test_data_dir = pathlib.Path(test_dataset_url)"
   ]
  },
  {
   "cell_type": "code",
   "execution_count": 4,
   "metadata": {},
   "outputs": [
    {
     "name": "stdout",
     "output_type": "stream",
     "text": [
      "54305\n"
     ]
    }
   ],
   "source": [
    "image_count = len(list(data_dir.glob('*/*.jpg')))\n",
    "print(image_count)"
   ]
  },
  {
   "cell_type": "code",
   "execution_count": 5,
   "metadata": {},
   "outputs": [],
   "source": [
    "batch_size = 32\n",
    "img_height = 256\n",
    "img_width = 256"
   ]
  },
  {
   "cell_type": "code",
   "execution_count": 6,
   "metadata": {},
   "outputs": [
    {
     "name": "stdout",
     "output_type": "stream",
     "text": [
      "Found 43429 files belonging to 38 classes.\n"
     ]
    }
   ],
   "source": [
    "train_ds = tf.keras.preprocessing.image_dataset_from_directory(\n",
    "  train_data_dir,\n",
    "#   validation_split=0.2,      #remove when putting specific train data\n",
    "#   subset=\"training\",\n",
    "  seed=123,\n",
    "  image_size=(img_height, img_width),\n",
    "  batch_size=batch_size)"
   ]
  },
  {
   "cell_type": "code",
   "execution_count": 7,
   "metadata": {},
   "outputs": [
    {
     "name": "stdout",
     "output_type": "stream",
     "text": [
      "Found 5417 files belonging to 38 classes.\n"
     ]
    }
   ],
   "source": [
    "val_ds = tf.keras.preprocessing.image_dataset_from_directory(\n",
    "  val_data_dir,\n",
    "  # validation_split=0.2,       #remove when putting specific test data\n",
    "  # subset=\"validation\",\n",
    "  seed=123,\n",
    "  image_size=(img_height, img_width),\n",
    "  batch_size=batch_size)"
   ]
  },
  {
   "cell_type": "code",
   "execution_count": 8,
   "metadata": {},
   "outputs": [
    {
     "name": "stdout",
     "output_type": "stream",
     "text": [
      "['Apple___Apple_scab', 'Apple___Black_rot', 'Apple___Cedar_apple_rust', 'Apple___healthy', 'Blueberry___healthy', 'Cherry_(including_sour)___Powdery_mildew', 'Cherry_(including_sour)___healthy', 'Corn_(maize)___Cercospora_leaf_spot Gray_leaf_spot', 'Corn_(maize)___Common_rust_', 'Corn_(maize)___Northern_Leaf_Blight', 'Corn_(maize)___healthy', 'Grape___Black_rot', 'Grape___Esca_(Black_Measles)', 'Grape___Leaf_blight_(Isariopsis_Leaf_Spot)', 'Grape___healthy', 'Orange___Haunglongbing_(Citrus_greening)', 'Peach___Bacterial_spot', 'Peach___healthy', 'Pepper,_bell___Bacterial_spot', 'Pepper,_bell___healthy', 'Potato___Early_blight', 'Potato___Late_blight', 'Potato___healthy', 'Raspberry___healthy', 'Soybean___healthy', 'Squash___Powdery_mildew', 'Strawberry___Leaf_scorch', 'Strawberry___healthy', 'Tomato___Bacterial_spot', 'Tomato___Early_blight', 'Tomato___Late_blight', 'Tomato___Leaf_Mold', 'Tomato___Septoria_leaf_spot', 'Tomato___Spider_mites Two-spotted_spider_mite', 'Tomato___Target_Spot', 'Tomato___Tomato_Yellow_Leaf_Curl_Virus', 'Tomato___Tomato_mosaic_virus', 'Tomato___healthy']\n",
      "*********************************************\n",
      "Number of classes of data : 38\n",
      "*********************************************\n"
     ]
    }
   ],
   "source": [
    "class_names = train_ds.class_names\n",
    "print(class_names)\n",
    "num_classes = len(class_names)\n",
    "print('*'*45)\n",
    "print('Number of classes of data :',num_classes)\n",
    "print('*'*45)"
   ]
  },
  {
   "cell_type": "code",
   "execution_count": 9,
   "metadata": {},
   "outputs": [],
   "source": [
    "num_classes = len(class_names)\n",
    "\n",
    "inputShape = (256,256,3)\n",
    "model = Sequential([\n",
    "    layers.experimental.preprocessing.Rescaling(1./255, input_shape=inputShape),\n",
    "    layers.Conv2D(32, (3, 3), padding=\"same\",input_shape=inputShape),\n",
    "    layers.LeakyReLU(alpha=0.1),\n",
    "    layers.BatchNormalization(axis=-1),\n",
    "    layers.MaxPooling2D(pool_size=(3, 3)),\n",
    "    layers.Dropout(0.25),\n",
    "\n",
    "    layers.Conv2D(64, (3, 3), padding=\"same\"),\n",
    "    layers.LeakyReLU(alpha=0.1),\n",
    "    layers.BatchNormalization(axis=-1),\n",
    "\n",
    "    layers.Conv2D(64, (3, 3), padding=\"same\"),\n",
    "    layers.LeakyReLU(alpha=0.1),\n",
    "    layers.BatchNormalization(axis=-1),\n",
    "    layers.MaxPooling2D(pool_size=(3, 3)),\n",
    "    layers.Dropout(0.25),\n",
    "\n",
    "    layers.Conv2D(128, (3, 3), padding=\"same\"),\n",
    "    layers.LeakyReLU(alpha=0.1),\n",
    "    layers.BatchNormalization(axis=-1),\n",
    "\n",
    "    layers.Conv2D(128, (3, 3), padding=\"same\"),\n",
    "    layers.LeakyReLU(alpha=0.1),\n",
    "    layers.BatchNormalization(axis=-1),\n",
    "    layers.MaxPooling2D(pool_size=(3, 3)),\n",
    "    layers.Dropout(0.25),\n",
    "\n",
    "    layers.Conv2D(256, (3, 3), padding=\"same\"),\n",
    "    layers.LeakyReLU(alpha=0.1),\n",
    "    layers.BatchNormalization(axis=-1),\n",
    "\n",
    "    layers.Conv2D(256, (3, 3), padding=\"same\"),\n",
    "    layers.LeakyReLU(alpha=0.1),\n",
    "    layers.BatchNormalization(axis=-1),\n",
    "    layers.MaxPooling2D(pool_size=(3, 3)),\n",
    "    layers.Dropout(0.25),\n",
    "\n",
    "    layers.Conv2D(512, (3, 3), padding=\"same\"),\n",
    "    layers.LeakyReLU(alpha=0.1),\n",
    "    layers.BatchNormalization(axis=-1),\n",
    "\n",
    "    layers.Flatten(),\n",
    "\n",
    "    layers.Dense(1024),\n",
    "    layers.LeakyReLU(alpha=0.1),\n",
    "    layers.BatchNormalization(),\n",
    "    layers.Dropout(0.5),\n",
    "\n",
    "    layers.Dense(len(class_names)),\n",
    "    layers.Activation(\"softmax\"),\n",
    "])"
   ]
  },
  {
   "cell_type": "code",
   "execution_count": 10,
   "metadata": {},
   "outputs": [],
   "source": [
    "model.compile(optimizer='adam',loss=tf.keras.losses.SparseCategoricalCrossentropy(from_logits=True),metrics=['accuracy'])"
   ]
  },
  {
   "cell_type": "code",
   "execution_count": 11,
   "metadata": {},
   "outputs": [
    {
     "name": "stdout",
     "output_type": "stream",
     "text": [
      "Model: \"sequential\"\n",
      "_________________________________________________________________\n",
      " Layer (type)                Output Shape              Param #   \n",
      "=================================================================\n",
      " rescaling (Rescaling)       (None, 256, 256, 3)       0         \n",
      "                                                                 \n",
      " conv2d (Conv2D)             (None, 256, 256, 32)      896       \n",
      "                                                                 \n",
      " leaky_re_lu (LeakyReLU)     (None, 256, 256, 32)      0         \n",
      "                                                                 \n",
      " batch_normalization (BatchN  (None, 256, 256, 32)     128       \n",
      " ormalization)                                                   \n",
      "                                                                 \n",
      " max_pooling2d (MaxPooling2D  (None, 85, 85, 32)       0         \n",
      " )                                                               \n",
      "                                                                 \n",
      " dropout (Dropout)           (None, 85, 85, 32)        0         \n",
      "                                                                 \n",
      " conv2d_1 (Conv2D)           (None, 85, 85, 64)        18496     \n",
      "                                                                 \n",
      " leaky_re_lu_1 (LeakyReLU)   (None, 85, 85, 64)        0         \n",
      "                                                                 \n",
      " batch_normalization_1 (Batc  (None, 85, 85, 64)       256       \n",
      " hNormalization)                                                 \n",
      "                                                                 \n",
      " conv2d_2 (Conv2D)           (None, 85, 85, 64)        36928     \n",
      "                                                                 \n",
      " leaky_re_lu_2 (LeakyReLU)   (None, 85, 85, 64)        0         \n",
      "                                                                 \n",
      " batch_normalization_2 (Batc  (None, 85, 85, 64)       256       \n",
      " hNormalization)                                                 \n",
      "                                                                 \n",
      " max_pooling2d_1 (MaxPooling  (None, 28, 28, 64)       0         \n",
      " 2D)                                                             \n",
      "                                                                 \n",
      " dropout_1 (Dropout)         (None, 28, 28, 64)        0         \n",
      "                                                                 \n",
      " conv2d_3 (Conv2D)           (None, 28, 28, 128)       73856     \n",
      "                                                                 \n",
      " leaky_re_lu_3 (LeakyReLU)   (None, 28, 28, 128)       0         \n",
      "                                                                 \n",
      " batch_normalization_3 (Batc  (None, 28, 28, 128)      512       \n",
      " hNormalization)                                                 \n",
      "                                                                 \n",
      " conv2d_4 (Conv2D)           (None, 28, 28, 128)       147584    \n",
      "                                                                 \n",
      " leaky_re_lu_4 (LeakyReLU)   (None, 28, 28, 128)       0         \n",
      "                                                                 \n",
      " batch_normalization_4 (Batc  (None, 28, 28, 128)      512       \n",
      " hNormalization)                                                 \n",
      "                                                                 \n",
      " max_pooling2d_2 (MaxPooling  (None, 9, 9, 128)        0         \n",
      " 2D)                                                             \n",
      "                                                                 \n",
      " dropout_2 (Dropout)         (None, 9, 9, 128)         0         \n",
      "                                                                 \n",
      " conv2d_5 (Conv2D)           (None, 9, 9, 256)         295168    \n",
      "                                                                 \n",
      " leaky_re_lu_5 (LeakyReLU)   (None, 9, 9, 256)         0         \n",
      "                                                                 \n",
      " batch_normalization_5 (Batc  (None, 9, 9, 256)        1024      \n",
      " hNormalization)                                                 \n",
      "                                                                 \n",
      " conv2d_6 (Conv2D)           (None, 9, 9, 256)         590080    \n",
      "                                                                 \n",
      " leaky_re_lu_6 (LeakyReLU)   (None, 9, 9, 256)         0         \n",
      "                                                                 \n",
      " batch_normalization_6 (Batc  (None, 9, 9, 256)        1024      \n",
      " hNormalization)                                                 \n",
      "                                                                 \n",
      " max_pooling2d_3 (MaxPooling  (None, 3, 3, 256)        0         \n",
      " 2D)                                                             \n",
      "                                                                 \n",
      " dropout_3 (Dropout)         (None, 3, 3, 256)         0         \n",
      "                                                                 \n",
      " conv2d_7 (Conv2D)           (None, 3, 3, 512)         1180160   \n",
      "                                                                 \n",
      " leaky_re_lu_7 (LeakyReLU)   (None, 3, 3, 512)         0         \n",
      "                                                                 \n",
      " batch_normalization_7 (Batc  (None, 3, 3, 512)        2048      \n",
      " hNormalization)                                                 \n",
      "                                                                 \n",
      " flatten (Flatten)           (None, 4608)              0         \n",
      "                                                                 \n",
      " dense (Dense)               (None, 1024)              4719616   \n",
      "                                                                 \n",
      " leaky_re_lu_8 (LeakyReLU)   (None, 1024)              0         \n",
      "                                                                 \n",
      " batch_normalization_8 (Batc  (None, 1024)             4096      \n",
      " hNormalization)                                                 \n",
      "                                                                 \n",
      " dropout_4 (Dropout)         (None, 1024)              0         \n",
      "                                                                 \n",
      " dense_1 (Dense)             (None, 38)                38950     \n",
      "                                                                 \n",
      " activation (Activation)     (None, 38)                0         \n",
      "                                                                 \n",
      "=================================================================\n",
      "Total params: 7,111,590\n",
      "Trainable params: 7,106,662\n",
      "Non-trainable params: 4,928\n",
      "_________________________________________________________________\n"
     ]
    }
   ],
   "source": [
    "model.summary()"
   ]
  },
  {
   "cell_type": "code",
   "execution_count": 12,
   "metadata": {},
   "outputs": [],
   "source": [
    "tf.keras.backend.clear_session()"
   ]
  },
  {
   "cell_type": "code",
   "execution_count": 13,
   "metadata": {},
   "outputs": [
    {
     "name": "stdout",
     "output_type": "stream",
     "text": [
      "Epoch 1/10\n"
     ]
    },
    {
     "name": "stderr",
     "output_type": "stream",
     "text": [
      "c:\\Users\\gruhe\\AppData\\Local\\Programs\\Python\\Python310\\lib\\site-packages\\keras\\backend.py:5586: UserWarning: \"`sparse_categorical_crossentropy` received `from_logits=True`, but the `output` argument was produced by a Softmax activation and thus does not represent logits. Was this intended?\n",
      "  output, from_logits = _get_logits(\n"
     ]
    },
    {
     "name": "stdout",
     "output_type": "stream",
     "text": [
      "1358/1358 [==============================] - 2138s 2s/step - loss: 1.0662 - accuracy: 0.7058 - val_loss: 0.6466 - val_accuracy: 0.8396\n",
      "Epoch 2/10\n",
      "1358/1358 [==============================] - 2134s 2s/step - loss: 0.4270 - accuracy: 0.8702 - val_loss: 1.1783 - val_accuracy: 0.7410\n",
      "Epoch 3/10\n",
      "1358/1358 [==============================] - 2103s 2s/step - loss: 0.3121 - accuracy: 0.9034 - val_loss: 0.3466 - val_accuracy: 0.8981\n",
      "Epoch 4/10\n",
      "1358/1358 [==============================] - 2096s 2s/step - loss: 0.2465 - accuracy: 0.9242 - val_loss: 0.8335 - val_accuracy: 0.8246\n",
      "Epoch 5/10\n",
      "1358/1358 [==============================] - 2094s 2s/step - loss: 0.1966 - accuracy: 0.9379 - val_loss: 0.4302 - val_accuracy: 0.9040\n",
      "Epoch 6/10\n",
      "1358/1358 [==============================] - 2097s 2s/step - loss: 0.1792 - accuracy: 0.9460 - val_loss: 0.9043 - val_accuracy: 0.7947\n",
      "Epoch 7/10\n",
      "1358/1358 [==============================] - 2095s 2s/step - loss: 0.1497 - accuracy: 0.9537 - val_loss: 0.2804 - val_accuracy: 0.9239\n",
      "Epoch 8/10\n",
      "1358/1358 [==============================] - 2097s 2s/step - loss: 0.1317 - accuracy: 0.9591 - val_loss: 0.2092 - val_accuracy: 0.9409\n",
      "Epoch 9/10\n",
      "1358/1358 [==============================] - 2098s 2s/step - loss: 0.1132 - accuracy: 0.9639 - val_loss: 0.1885 - val_accuracy: 0.9459\n",
      "Epoch 10/10\n",
      "1358/1358 [==============================] - 2198s 2s/step - loss: 0.0909 - accuracy: 0.9712 - val_loss: 0.3107 - val_accuracy: 0.9275\n"
     ]
    }
   ],
   "source": [
    "epochs = 10\n",
    "history = model.fit(\n",
    "  # steps_per_epoch = 100,\n",
    "  x=train_ds,\n",
    "  validation_data=val_ds,\n",
    "  epochs=epochs,\n",
    "  batch_size = batch_size,\n",
    ")"
   ]
  },
  {
   "cell_type": "code",
   "execution_count": 14,
   "metadata": {},
   "outputs": [
    {
     "name": "stdout",
     "output_type": "stream",
     "text": [
      "Found 5459 files belonging to 38 classes.\n"
     ]
    }
   ],
   "source": [
    "test_ds = tf.keras.preprocessing.image_dataset_from_directory(\n",
    "  test_data_dir,\n",
    "  # validation_split=0.2,       #remove when putting specific test data\n",
    "  # subset=\"validation\",\n",
    "  seed=123,\n",
    "  image_size=(img_height, img_width),\n",
    "  batch_size=batch_size)"
   ]
  },
  {
   "cell_type": "code",
   "execution_count": 15,
   "metadata": {},
   "outputs": [
    {
     "name": "stdout",
     "output_type": "stream",
     "text": [
      "171/171 [==============================] - 50s 294ms/step - loss: 0.3249 - accuracy: 0.9269\n"
     ]
    }
   ],
   "source": [
    "evaluated = model.evaluate(\n",
    "    test_ds,\n",
    "    batch_size=batch_size,\n",
    ")"
   ]
  },
  {
   "cell_type": "code",
   "execution_count": 16,
   "metadata": {},
   "outputs": [
    {
     "data": {
      "image/png": "[encoded data removed]",
      "text/plain": [
       "<Figure size 800x800 with 2 Axes>"
      ]
     },
     "metadata": {},
     "output_type": "display_data"
    }
   ],
   "source": [
    "acc = history.history['accuracy']\n",
    "val_acc = history.history['val_accuracy']\n",
    "\n",
    "loss=history.history['loss']\n",
    "val_loss=history.history['val_loss']\n",
    "\n",
    "epochs_range = range(epochs)\n",
    "\n",
    "plt.figure(figsize=(8, 8))\n",
    "plt.subplot(1, 2, 1)\n",
    "plt.plot(epochs_range, acc, label='Training Accuracy')\n",
    "plt.plot(epochs_range, val_acc, label='Validation Accuracy')\n",
    "plt.legend(loc='lower right')\n",
    "plt.title('Training and Validation Accuracy')\n",
    "\n",
    "plt.subplot(1, 2, 2)\n",
    "plt.plot(epochs_range, loss, label='Training Loss')\n",
    "plt.plot(epochs_range, val_loss, label='Validation Loss')\n",
    "plt.legend(loc='upper right')\n",
    "plt.title('Training and Validation Loss')\n",
    "plt.show()"
   ]
  },
  {
   "cell_type": "code",
   "execution_count": 17,
   "metadata": {},
   "outputs": [],
   "source": [
    "model.save(\"C:/Users/gruhe/Desktop/Capstone/Model/fridayModel.h5\")"
   ]
  },
  {
   "cell_type": "code",
   "execution_count": 18,
   "metadata": {},
   "outputs": [],
   "source": [
    "import pickle"
   ]
  },
  {
   "cell_type": "code",
   "execution_count": 19,
   "metadata": {},
   "outputs": [
    {
     "name": "stdout",
     "output_type": "stream",
     "text": [
      "Keras model saving:\n",
      "File Name                                             Modified             Size\n",
      "config.json                                    2022-11-12 00:49:19        14393\n",
      "metadata.json                                  2022-11-12 00:49:19           64\n",
      "model/layers/batch_normalization/weights.npz   2022-11-12 00:49:19         4954\n",
      "model/layers/batch_normalization_1/weights.npz 2022-11-12 00:49:19         6490\n",
      "model/layers/batch_normalization_2/weights.npz 2022-11-12 00:49:19         6490\n",
      "model/layers/batch_normalization_3/weights.npz 2022-11-12 00:49:19         9562\n",
      "model/layers/batch_normalization_4/weights.npz 2022-11-12 00:49:19         9562\n",
      "model/layers/batch_normalization_5/weights.npz 2022-11-12 00:49:19        15706\n",
      "model/layers/batch_normalization_6/weights.npz 2022-11-12 00:49:19        15706\n",
      "model/layers/batch_normalization_7/weights.npz 2022-11-12 00:49:19        27994\n",
      "model/layers/batch_normalization_8/weights.npz 2022-11-12 00:49:20        52570\n",
      "model/layers/conv2d/weights.npz                2022-11-12 00:49:19        12434\n",
      "model/layers/conv2d_1/weights.npz              2022-11-12 00:49:19       223634\n",
      "model/layers/conv2d_2/weights.npz              2022-11-12 00:49:19       444818\n",
      "model/layers/conv2d_3/weights.npz              2022-11-12 00:49:19       887954\n",
      "model/layers/conv2d_4/weights.npz              2022-11-12 00:49:19      1772690\n",
      "model/layers/conv2d_5/weights.npz              2022-11-12 00:49:19      3543698\n",
      "model/layers/conv2d_6/weights.npz              2022-11-12 00:49:19      7082642\n",
      "model/layers/conv2d_7/weights.npz              2022-11-12 00:49:19     14163602\n",
      "model/layers/dense/weights.npz                 2022-11-12 00:49:20     56637074\n",
      "model/layers/dense_1/weights.npz               2022-11-12 00:49:20       469082\n",
      "model/metrics/accuracy/weights.npz             2022-11-12 00:49:20         1722\n",
      "model/metrics/loss/weights.npz                 2022-11-12 00:49:20         1722\n",
      "model/optimizer/state.npz                      2022-11-12 00:49:20     56875544\n",
      "model/weights.npz                              2022-11-12 00:49:19         1108\n"
     ]
    }
   ],
   "source": [
    "with open('model_pkl', 'wb') as files:\n",
    "    pickle.dump(model, files)"
   ]
  },
  {
   "cell_type": "code",
   "execution_count": 20,
   "metadata": {},
   "outputs": [
    {
     "name": "stdout",
     "output_type": "stream",
     "text": [
      "Keras model loading:\n",
      "File Name                                             Modified             Size\n",
      "config.json                                    2022-11-12 00:49:18        14393\n",
      "metadata.json                                  2022-11-12 00:49:18           64\n",
      "model/layers/batch_normalization/weights.npz   2022-11-12 00:49:18         4954\n",
      "model/layers/batch_normalization_1/weights.npz 2022-11-12 00:49:18         6490\n",
      "model/layers/batch_normalization_2/weights.npz 2022-11-12 00:49:18         6490\n",
      "model/layers/batch_normalization_3/weights.npz 2022-11-12 00:49:18         9562\n",
      "model/layers/batch_normalization_4/weights.npz 2022-11-12 00:49:18         9562\n",
      "model/layers/batch_normalization_5/weights.npz 2022-11-12 00:49:18        15706\n",
      "model/layers/batch_normalization_6/weights.npz 2022-11-12 00:49:18        15706\n",
      "model/layers/batch_normalization_7/weights.npz 2022-11-12 00:49:18        27994\n",
      "model/layers/batch_normalization_8/weights.npz 2022-11-12 00:49:20        52570\n",
      "model/layers/conv2d/weights.npz                2022-11-12 00:49:18        12434\n",
      "model/layers/conv2d_1/weights.npz              2022-11-12 00:49:18       223634\n",
      "model/layers/conv2d_2/weights.npz              2022-11-12 00:49:18       444818\n",
      "model/layers/conv2d_3/weights.npz              2022-11-12 00:49:18       887954\n",
      "model/layers/conv2d_4/weights.npz              2022-11-12 00:49:18      1772690\n",
      "model/layers/conv2d_5/weights.npz              2022-11-12 00:49:18      3543698\n",
      "model/layers/conv2d_6/weights.npz              2022-11-12 00:49:18      7082642\n",
      "model/layers/conv2d_7/weights.npz              2022-11-12 00:49:18     14163602\n",
      "model/layers/dense/weights.npz                 2022-11-12 00:49:20     56637074\n",
      "model/layers/dense_1/weights.npz               2022-11-12 00:49:20       469082\n",
      "model/metrics/accuracy/weights.npz             2022-11-12 00:49:20         1722\n",
      "model/metrics/loss/weights.npz                 2022-11-12 00:49:20         1722\n",
      "model/optimizer/state.npz                      2022-11-12 00:49:20     56875544\n",
      "model/weights.npz                              2022-11-12 00:49:18         1108\n"
     ]
    }
   ],
   "source": [
    "with open('model_pkl' , 'rb') as f:\n",
    "    lr = pickle.load(f)"
   ]
  },
  {
   "cell_type": "code",
   "execution_count": 21,
   "metadata": {},
   "outputs": [],
   "source": [
    "sample_file = \"C:/Users/gruhe/Desktop/Capstone/Model/Split Dataset/test/Tomato___healthy/image-865.jpg\""
   ]
  },
  {
   "cell_type": "code",
   "execution_count": 23,
   "metadata": {},
   "outputs": [],
   "source": [
    "from tensorflow.keras.preprocessing import image\n",
    "from tensorflow.keras.models import load_model\n",
    "import numpy as np\n",
    "\n",
    "sample_img = image.load_img(sample_file,target_size = (256,256,3))\n",
    "sample_img = image.img_to_array(sample_img)\n",
    "sample_img = np.expand_dims(sample_img,axis=0)"
   ]
  },
  {
   "cell_type": "code",
   "execution_count": 24,
   "metadata": {},
   "outputs": [
    {
     "name": "stdout",
     "output_type": "stream",
     "text": [
      "1/1 [==============================] - 0s 217ms/step\n",
      "[[9.0940498e-15 3.4888044e-15 6.9069511e-13 4.3891371e-09 9.6604243e-15\n",
      "  5.1459179e-16 1.2328276e-11 4.6483564e-12 4.2944272e-13 1.2739070e-14\n",
      "  8.9927256e-05 7.7005766e-16 3.1892110e-13 1.2395904e-14 4.3224474e-10\n",
      "  2.5072137e-15 1.6797117e-13 1.2577557e-13 8.9618732e-23 7.6886278e-13\n",
      "  1.0838955e-13 5.3251261e-17 2.0387158e-15 1.6354049e-10 3.9847603e-10\n",
      "  7.4043229e-14 2.2805809e-15 2.7028787e-12 5.9937688e-10 3.7939822e-14\n",
      "  3.7588273e-13 4.0780773e-12 2.6807232e-13 1.1847956e-12 9.3941424e-13\n",
      "  8.1433497e-12 1.5536136e-12 9.9991012e-01]]\n",
      "38\n"
     ]
    }
   ],
   "source": [
    "result = lr.predict(sample_img)\n",
    "print(result)\n",
    "print(len(result[0]))"
   ]
  },
  {
   "cell_type": "code",
   "execution_count": 26,
   "metadata": {},
   "outputs": [
    {
     "name": "stdout",
     "output_type": "stream",
     "text": [
      "38\n",
      "0.9999101\n",
      "Tomato___healthy\n"
     ]
    }
   ],
   "source": [
    "class_names = ['Apple___Apple_scab', 'Apple___Black_rot', 'Apple___Cedar_apple_rust', 'Apple___healthy', 'Blueberry___healthy', 'Cherry_(including_sour)___Powdery_mildew', 'Cherry_(including_sour)___healthy', 'Corn_(maize)___Cercospora_leaf_spot Gray_leaf_spot', 'Corn_(maize)___Common_rust_', 'Corn_(maize)___Northern_Leaf_Blight', 'Corn_(maize)___healthy', 'Grape___Black_rot', 'Grape___Esca_(Black_Measles)', 'Grape___Leaf_blight_(Isariopsis_Leaf_Spot)', 'Grape___healthy', 'Orange___Haunglongbing_(Citrus_greening)', 'Peach___Bacterial_spot', 'Peach___healthy', 'Pepper,_bell___Bacterial_spot', 'Pepper,_bell___healthy', 'Potato___Early_blight', 'Potato___Late_blight', 'Potato___healthy', 'Raspberry___healthy', 'Soybean___healthy', 'Squash___Powdery_mildew', 'Strawberry___Leaf_scorch', 'Strawberry___healthy', 'Tomato___Bacterial_spot', 'Tomato___Early_blight', 'Tomato___Late_blight', 'Tomato___Leaf_Mold', 'Tomato___Septoria_leaf_spot', 'Tomato___Spider_mites Two-spotted_spider_mite', 'Tomato___Target_Spot', 'Tomato___Tomato_Yellow_Leaf_Curl_Virus', 'Tomato___Tomato_mosaic_virus', 'Tomato___healthy']\n",
    "print(len(class_names))\n",
    "print(result.max())\n",
    "print(class_names[result.argmax()])"
   ]
  }
 ],
 "metadata": {
  "kernelspec": {
   "display_name": "Python 3.10.7 64-bit",
   "language": "python",
   "name": "python3"
  },
  "language_info": {
   "codemirror_mode": {
    "name": "ipython",
    "version": 3
   },
   "file_extension": ".py",
   "mimetype": "text/x-python",
   "name": "python",
   "nbconvert_exporter": "python",
   "pygments_lexer": "ipython3",
   "version": "3.10.7"
  },
  "orig_nbformat": 4,
  "vscode": {
   "interpreter": {
    "hash": "6965394922ad9ba50e447d5f9608aed87d44c2c07c425ac3a3f1e723251b6555"
   }
  }
 },
 "nbformat": 4,
 "nbformat_minor": 2
}
